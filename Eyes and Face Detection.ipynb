{
 "cells": [
  {
   "cell_type": "code",
   "execution_count": 3,
   "id": "4af93cf4",
   "metadata": {},
   "outputs": [],
   "source": [
    "import cv2\n",
    "import face_recognition"
   ]
  },
  {
   "cell_type": "code",
   "execution_count": 4,
   "id": "3e707f8f",
   "metadata": {},
   "outputs": [],
   "source": [
    "face_cascade = cv2.CascadeClassifier('C:\\\\Users\\\\NRTC Software Team\\\\Desktop\\\\Umar Zaib\\\\Module_1_Face_Recognition\\\\haarcascade_frontalface_default.xml') # We load the cascade for the face.\n",
    "eye_cascade = cv2.CascadeClassifier('C:\\\\Users\\\\NRTC Software Team\\\\Desktop\\\\Umar Zaib\\\\Module_1_Face_Recognition\\\\haarcascade_eye.xml') # We load the cascade for the eyes.\n",
    "umar = face_recognition.load_image_file(\"C:\\\\Users\\\\NRTC Software Team\\\\Desktop\\\\Umar Zaib\\\\umar2.jpg\")\n",
    "umar = cv2.cvtColor(umar, cv2.COLOR_BGR2RGB)\n",
    "umar = cv2.resize(umar, (500,500))"
   ]
  },
  {
   "cell_type": "code",
   "execution_count": 5,
   "id": "7bb92bc4",
   "metadata": {
    "scrolled": false
   },
   "outputs": [
    {
     "name": "stdout",
     "output_type": "stream",
     "text": [
      "[-0.20007855  0.11829821  0.12079602 -0.11057273 -0.03874393 -0.06371107\n",
      " -0.1058399  -0.08476399  0.12817845 -0.0805724   0.18555444  0.01639042\n",
      " -0.16336775 -0.10916068  0.03740048  0.09583917 -0.17901823 -0.14921041\n",
      " -0.00596412 -0.08527082  0.08872263  0.03130648 -0.03843262  0.05095217\n",
      " -0.19085723 -0.36766213 -0.09840126 -0.07256885  0.02649642 -0.07555004\n",
      "  0.02636955  0.03737744 -0.29485419 -0.03729055 -0.05317958  0.05667691\n",
      "  0.02630172  0.00112502  0.11384871  0.02393894 -0.16024655 -0.03694934\n",
      "  0.02862735  0.21809737  0.15176103  0.07002672  0.07054055 -0.00949009\n",
      "  0.03137833 -0.19078214  0.10349372  0.18601993  0.05228756  0.06176876\n",
      "  0.03590532 -0.12485687  0.01496876  0.02214715 -0.15024403  0.05885852\n",
      "  0.10806251 -0.05481597 -0.02578909  0.00854885  0.23869239  0.07620919\n",
      " -0.10135939 -0.11088767  0.15145564 -0.08215368 -0.06572882  0.0256779\n",
      " -0.11612268 -0.12659781 -0.3296507   0.11290683  0.38248333  0.12700455\n",
      " -0.17382786  0.06362036 -0.16656117 -0.02782985  0.06585686  0.02155698\n",
      " -0.08449523  0.04006044 -0.06143992  0.12263361  0.21075921  0.09525694\n",
      " -0.04341196  0.17698097  0.0261733   0.02493652  0.01646368  0.06103418\n",
      " -0.07186662 -0.04347309 -0.08727432  0.00546592  0.05341652  0.01855749\n",
      " -0.03769086  0.19166866 -0.16539662  0.20433022  0.05036227 -0.04677347\n",
      " -0.07658274  0.10235022 -0.13942681 -0.07651661  0.0511516  -0.18173367\n",
      "  0.20477085  0.1677916   0.047888    0.14182527  0.09156694  0.05464755\n",
      " -0.01016649 -0.0420684  -0.11516032 -0.10522838  0.09925722 -0.01357119\n",
      "  0.11954482  0.06830921]\n"
     ]
    }
   ],
   "source": [
    "encodeumar = face_recognition.face_encodings(umar)[0]\n",
    "print(encodeumar)"
   ]
  },
  {
   "cell_type": "code",
   "execution_count": 6,
   "id": "81ec0745",
   "metadata": {},
   "outputs": [],
   "source": [
    "def detect(gray, frame): # We create a function that takes as input the image in black and white (gray) and the original image (frame), and that will return the same image with the detector rectangles. \n",
    "    faces = face_cascade.detectMultiScale(gray, 1.3, 5) # We apply the detectMultiScale method from the face cascade to locate one or several faces in the image.\n",
    "    for (x, y, w, h) in faces: # For each detected face:\n",
    "        cv2.rectangle(frame, (x, y), (x+w, y+h), (255, 0, 0), 2) # We paint a rectangle around the face.\n",
    "        cv2.putText(frame, 'This is Face', (x, y+h+25),cv2.FONT_HERSHEY_SIMPLEX,1,(0, 255, 0),1)\n",
    "        roi_gray = gray[y:y+h, x:x+w] # We get the region of interest in the black and white image.\n",
    "        roi_color = frame[y:y+h, x:x+w] # We get the region of interest in the colored image.\n",
    "        eyes = eye_cascade.detectMultiScale(roi_gray, 1.1, 3) # We apply the detectMultiScale method to locate one or several eyes in the image.\n",
    "        for (ex, ey, ew, eh) in eyes: # For each detected eye:\n",
    "            cv2.rectangle(roi_color,(ex, ey),(ex+ew, ey+eh), (0, 255, 0), 2) # We paint a rectangle around the eyes, but inside the referential of the face.\n",
    "            cv2.putText(roi_color, 'This is eye', (ex, ey+eh+15),cv2.FONT_HERSHEY_SIMPLEX,0.5,(0, 255, 0),1)\n",
    "    return frame # We return the image with the detector rectangles."
   ]
  },
  {
   "cell_type": "code",
   "execution_count": 7,
   "id": "224e0415",
   "metadata": {},
   "outputs": [],
   "source": [
    "def facecompare(frame):\n",
    "    if result==True:\n",
    "        cv2.putText(frame, 'This is Umar', (190, 240),cv2.FONT_HERSHEY_SIMPLEX,0.5,(0, 255, 0),1)\n",
    "    else:\n",
    "        cv2.putText(frame, 'UnKnown', (190, 240),cv2.FONT_HERSHEY_SIMPLEX,0.5,(0, 255, 0),1)\n",
    "    return frame"
   ]
  },
  {
   "cell_type": "code",
   "execution_count": 8,
   "id": "64b8a9cc",
   "metadata": {},
   "outputs": [],
   "source": [
    "video_capture = cv2.VideoCapture(0) # We turn the webcam on."
   ]
  },
  {
   "cell_type": "code",
   "execution_count": 9,
   "id": "1291f959",
   "metadata": {},
   "outputs": [],
   "source": [
    "while True: # We repeat infinitely (until break):\n",
    "    _, frame = video_capture.read() # We get the last frame.\n",
    "    gray = cv2.cvtColor(frame, cv2.COLOR_BGR2GRAY) # We do some colour transformations.\n",
    "    canvas = detect(gray, frame) # We get the output of our detect function.\n",
    "       \n",
    "    cv2.imshow('Video', canvas) # We display the outputs.\n",
    "    if cv2.waitKey(1) & 0xFF == ord('q'): # If wvideo_capture.release() # We turn the webcam off.\n",
    "        break # We stop the loop.\n",
    " "
   ]
  },
  {
   "cell_type": "code",
   "execution_count": 10,
   "id": "a5073b6c",
   "metadata": {},
   "outputs": [],
   "source": [
    "video_capture.release() # We turn the webcam off.\n",
    "cv2.destroyAllWindows() # We destroy all the windows inside which the images were displayed."
   ]
  },
  {
   "cell_type": "code",
   "execution_count": null,
   "id": "8dc9b35b",
   "metadata": {},
   "outputs": [],
   "source": []
  }
 ],
 "metadata": {
  "kernelspec": {
   "display_name": "Python 3 (ipykernel)",
   "language": "python",
   "name": "python3"
  },
  "language_info": {
   "codemirror_mode": {
    "name": "ipython",
    "version": 3
   },
   "file_extension": ".py",
   "mimetype": "text/x-python",
   "name": "python",
   "nbconvert_exporter": "python",
   "pygments_lexer": "ipython3",
   "version": "3.10.5"
  }
 },
 "nbformat": 4,
 "nbformat_minor": 5
}
